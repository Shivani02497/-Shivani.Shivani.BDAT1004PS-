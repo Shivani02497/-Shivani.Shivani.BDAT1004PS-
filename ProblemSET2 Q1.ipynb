{
 "cells": [
  {
   "cell_type": "code",
   "execution_count": 1,
   "id": "58614e55",
   "metadata": {},
   "outputs": [],
   "source": [
    "a = 0\n",
    "def b():\n",
    "    global a\n",
    "    a = c(a)\n",
    "def c(a):\n",
    "    return a + 2\n"
   ]
  },
  {
   "cell_type": "code",
   "execution_count": 2,
   "id": "91a9841b",
   "metadata": {},
   "outputs": [
    {
     "data": {
      "text/plain": [
       "6"
      ]
     },
     "execution_count": 2,
     "metadata": {},
     "output_type": "execute_result"
    }
   ],
   "source": [
    "b()\n",
    "b()\n",
    "b()\n",
    "a"
   ]
  },
  {
   "cell_type": "markdown",
   "id": "7e0fc254",
   "metadata": {},
   "source": [
    "Given that its initial value is 0, \"a\" is used in both b and c. The values in an are increased by 2 by using c(), which is used in B(). Every time b and c are called in this way, the value of an is increased by 2, as shown. Due to the fact that \"a\" is a global variable, its value is changed each time b is invoked."
   ]
  },
  {
   "cell_type": "code",
   "execution_count": null,
   "id": "195f7f4d",
   "metadata": {},
   "outputs": [],
   "source": []
  }
 ],
 "metadata": {
  "kernelspec": {
   "display_name": "Python 3 (ipykernel)",
   "language": "python",
   "name": "python3"
  },
  "language_info": {
   "codemirror_mode": {
    "name": "ipython",
    "version": 3
   },
   "file_extension": ".py",
   "mimetype": "text/x-python",
   "name": "python",
   "nbconvert_exporter": "python",
   "pygments_lexer": "ipython3",
   "version": "3.9.12"
  }
 },
 "nbformat": 4,
 "nbformat_minor": 5
}
